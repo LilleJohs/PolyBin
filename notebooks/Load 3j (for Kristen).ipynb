{
 "cells": [
  {
   "cell_type": "markdown",
   "metadata": {},
   "source": [
    "### Julia code to compute the array of 3j symbols needed in the main code.\n",
    "\n",
    "This computes:\n",
    "\\begin{eqnarray}\n",
    "    \\begin{pmatrix} \\ell_1 & \\ell_2 & \\ell_3 \\\\ 0 & 0 & 0\\end{pmatrix}\n",
    "\\end{eqnarray}\n",
    "for all $\\ell_i\\in[0,500]$. It relies on Zack Li's [WignerFamilies](https://github.com/xzackli/WignerFamilies.jl) code, which will need to be installed before running the below."
   ]
  },
  {
   "cell_type": "code",
   "execution_count": 1,
   "metadata": {},
   "outputs": [],
   "source": [
    "using WignerFamilies\n",
    "using NPZ"
   ]
  },
  {
   "cell_type": "markdown",
   "metadata": {},
   "source": [
    "#### Create array of 3j symbols"
   ]
  },
  {
   "cell_type": "code",
   "execution_count": 2,
   "metadata": {},
   "outputs": [],
   "source": [
    "lowl_max = 500\n",
    "highl_max = 500\n",
    "\n",
    "wig_array = zeros(Float64,lowl_max+1,highl_max+1,2*lowl_max+3)\n",
    "for l1 in 0:lowl_max\n",
    "    for l2 in 0:highl_max\n",
    "        w3j = wigner3j_f(l1, l2, 0, 0) \n",
    "        wig_array[l1+1,l2+1,abs(l1-l2)+1:abs(l1-l2)+length(w3j)] = w3j\n",
    "    end\n",
    "end"
   ]
  },
  {
   "cell_type": "markdown",
   "metadata": {},
   "source": [
    "#### Write to disk"
   ]
  },
  {
   "cell_type": "code",
   "execution_count": 36,
   "metadata": {},
   "outputs": [],
   "source": [
    "npzwrite(\"/projects/QUIJOTE/Oliver/wig3j_array.npz\",wig_array)"
   ]
  }
 ],
 "metadata": {
  "kernelspec": {
   "display_name": "Julia 1.5.0",
   "language": "julia",
   "name": "julia-1.5"
  },
  "language_info": {
   "file_extension": ".jl",
   "mimetype": "application/julia",
   "name": "julia",
   "version": "1.5.0"
  }
 },
 "nbformat": 4,
 "nbformat_minor": 4
}
