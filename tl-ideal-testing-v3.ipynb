{
 "cells": [
  {
   "cell_type": "code",
   "execution_count": 1,
   "metadata": {},
   "outputs": [
    {
     "name": "stdout",
     "output_type": "stream",
     "text": [
      "binned lmax: 32, HEALPix lmax: 383\n"
     ]
    }
   ],
   "source": [
    "## IMPORTS\n",
    "import time, os, sys, healpy\n",
    "import numpy as np\n",
    "import multiprocessing as mp\n",
    "import tqdm\n",
    "sys.path.append('../')\n",
    "import polybin as pb\n",
    "from scipy.interpolate import InterpolatedUnivariateSpline\n",
    "\n",
    "include_synthetic_b = False\n",
    "\n",
    "# Binning parameters\n",
    "dl = 10 # width\n",
    "Nl = 3#3 # number\n",
    "min_l = 2 # minimum\n",
    "\n",
    "# HEALPix settings\n",
    "Nside = 128\n",
    "lmax = 3*Nside-1\n",
    "\n",
    "print(\"binned lmax: %d,\"%(min_l+dl*Nl),\"HEALPix lmax: %d\"%lmax)\n",
    "\n",
    "# Whether to include bins only partially satisfying triangle conditions\n",
    "include_partial_triangles = False\n",
    "\n",
    "# whether to add a separable reduced bispectrum to the input maps\n",
    "b_input_fac = lambda l1: np.exp(-(l1-2)/40.)*2e-6\n",
    "\n",
    "# Galactic Mask\n",
    "# Using GAL040 mask with 2-degree apodization for testing\n",
    "root = '/projects/QUIJOTE/Oliver/planck/'\n",
    "maskfile = 'HFI_Mask_GalPlane-apo2_2048_R2.00.fits'"
   ]
  },
  {
   "cell_type": "code",
   "execution_count": 2,
   "metadata": {},
   "outputs": [
    {
     "name": "stdout",
     "output_type": "stream",
     "text": [
      "Loading CLASS\n",
      "## Caution: Zeros detected in input Cl - this may cause problems for inversion!\n",
      "Generating data\n"
     ]
    }
   ],
   "source": [
    "from classy import Class\n",
    "cosmo = Class()\n",
    "\n",
    "# Define ell arrays\n",
    "l = np.arange(lmax+1)\n",
    "\n",
    "# Run CLASS\n",
    "print(\"Loading CLASS\")\n",
    "cosmo.set({'output':'tCl,lCl,mPk','l_max_scalars':lmax+1,'lensing':'yes',\n",
    "           'omega_b':0.022383,\n",
    "           'non linear':'no',\n",
    "           'omega_cdm':0.12011,\n",
    "           'h':0.6732,\n",
    "           'm_ncdm':0.06,\n",
    "           'N_ncdm':1,\n",
    "           'tau_reio':0.0543,\n",
    "           'A_s':1e-10*np.exp(3.0448),\n",
    "           'n_s':0.96605});\n",
    "cosmo.compute()\n",
    "\n",
    "# Compute signal C_ell\n",
    "Cl_dict = cosmo.lensed_cl(lmax);\n",
    "Cl_th = Cl_dict['tt']*cosmo.T_cmb()**2\n",
    "\n",
    "# Compute noise C_ell\n",
    "DeltaT = 60./60.*np.pi/180.*1e-6 # in K-radians\n",
    "thetaFWHM = 5./60.*np.pi/180. # in radians\n",
    "Nl_th = DeltaT**2*np.exp(l*(l+1)*thetaFWHM**2/(8.*np.log(2)))*(l>2)\n",
    "\n",
    "mask = healpy.ud_grade(healpy.read_map(root+maskfile,field=1),Nside)\n",
    "\n",
    "# Load class with fiducial Cl and Nside\n",
    "base = pb.PolyBin(Nside, Cl_th+Nl_th)\n",
    "\n",
    "# Generate unmasked data with known C_l and factorized b\n",
    "# Cl is set to the fiducial spectrum unless otherwise specified\n",
    "# No beam is included\n",
    "print(\"Generating data\")\n",
    "raw_data = base.generate_data(seed=42, add_B=include_synthetic_b, b_input=b_input_fac)\n",
    "\n",
    "# Mask the map\n",
    "data = raw_data*mask"
   ]
  },
  {
   "cell_type": "code",
   "execution_count": 3,
   "metadata": {},
   "outputs": [],
   "source": [
    "def applySinv(input_map):\n",
    "    \"\"\"Apply the optimal weighting to a map. \n",
    "    \n",
    "    Here, we assume that the forward covariance is diagonal, in particular C_l, and invert this.\n",
    "    This is not quite the exact solution (as it incorrectly treats W(n) factors), but should be unbiased.\"\"\"\n",
    "    \n",
    "    # Transform to harmonic space\n",
    "    input_map_lm = base.to_lm(input_map)\n",
    "    # Divide by covariance and return to map-space\n",
    "    Cinv_map = base.to_map(base.safe_divide(input_map_lm,base.Cl_lm))\n",
    "    \n",
    "    return Cinv_map"
   ]
  },
  {
   "cell_type": "code",
   "execution_count": 4,
   "metadata": {},
   "outputs": [
    {
     "name": "stdout",
     "output_type": "stream",
     "text": [
      "Binning: 3 bins in [2, 32]\n"
     ]
    }
   ],
   "source": [
    "# Initialize power spectrum class\n",
    "tspec = pb.TSpec(base, mask, applySinv, min_l, dl, Nl)"
   ]
  },
  {
   "cell_type": "code",
   "execution_count": 5,
   "metadata": {},
   "outputs": [],
   "source": [
    "def _compute_fisher_ideal(self, parity='even', verb=False, N_cpus=1):\n",
    "    \"\"\"\n",
    "    This computes the idealized Fisher matrix for the trispectrum. If N_cpus > 1, this parallelizes the operation.\n",
    "\n",
    "    The `parity' parameter can be 'even', 'odd' or 'both'. This specifies what parity trispectra to compute.\n",
    "    \"\"\"\n",
    "    # Check type\n",
    "    if parity not in ['even','odd','both']:\n",
    "        raise Exception(\"Parity parameter not set correctly!\")\n",
    "\n",
    "    # Compute symmetry factors, if not already present\n",
    "    if not hasattr(self, 'sym_factor_even') and parity!='odd':\n",
    "        self._compute_even_symmetry_factor()\n",
    "    if not hasattr(self, 'sym_factor_odd') and parity!='even':\n",
    "        self._compute_odd_symmetry_factor()\n",
    "\n",
    "    # Define arrays\n",
    "    if parity!='even':\n",
    "        fish_odd = np.zeros((self.N_t_odd, self.N_t_odd))\n",
    "    if parity!='odd':\n",
    "        fish_even = np.zeros((self.N_t_even, self.N_t_even))\n",
    "\n",
    "    if N_cpus==1:\n",
    "        # Iterate over first set of bins\n",
    "        # Note that we use two sets of indices here, since there are a different number of odd and even bins\n",
    "        index1e = -1\n",
    "        index1o = -1\n",
    "        for bin1 in range(self.Nl):\n",
    "            for bin2 in range(bin1,self.Nl_squeeze):\n",
    "                for bin3 in range(bin1,self.Nl):\n",
    "                    for bin4 in range(bin3,self.Nl_squeeze):\n",
    "                        if bin1==bin3 and bin4<bin2: continue\n",
    "                        if bin1==bin3 and bin2==bin4 and parity=='odd': continue\n",
    "                        for binL in range(self.Nl_squeeze):\n",
    "                            # skip bins outside the triangle conditions\n",
    "                            if not self._check_bin(bin1,bin2,binL,even=False): continue\n",
    "                            if not self._check_bin(bin3,bin4,binL,even=False): continue\n",
    "\n",
    "                            # Update indices\n",
    "                            index1e += 1\n",
    "                            if ((bin1==bin3)*(bin2==bin4))!=1:\n",
    "                                index1o += 1 # no equal bins!\n",
    "\n",
    "                            if verb and parity!='odd':\n",
    "                                if (index1e+1)%5==0: print(\"Computing bin %d of %d\"%(index1e+1,self.N_t_even))\n",
    "                            if verb and parity=='odd':\n",
    "                                if (index1o+1)%5==0: print(\"Computing bin %d of %d\"%(index1o+1,self.N_t_odd))\n",
    "\n",
    "                            # Iterate over second set of bins\n",
    "                            index2e = -1\n",
    "                            index2o = -1\n",
    "                            for bin1p in range(self.Nl):\n",
    "                                for bin2p in range(bin1p,self.Nl_squeeze):\n",
    "                                    for bin3p in range(bin1p,self.Nl):\n",
    "                                        for bin4p in range(bin3p,self.Nl_squeeze):\n",
    "                                            if bin1p==bin3p and bin4p<bin2p: continue\n",
    "                                            if bin1p==bin3p and bin2p==bin4p and parity=='odd': continue\n",
    "                                            for binLp in range(self.Nl_squeeze):\n",
    "                                                # skip bins outside the triangle conditions\n",
    "                                                if not self._check_bin(bin1p,bin2p,binLp,even=False): continue\n",
    "                                                if not self._check_bin(bin3p,bin4p,binLp,even=False): continue\n",
    "\n",
    "                                                # Update indices\n",
    "                                                index2e += 1\n",
    "                                                if ((bin1p==bin3p)*(bin2p==bin4p))!=1:\n",
    "                                                    index2o += 1 # no equal bins!\n",
    "\n",
    "                                                # fill in this part by symmetry!\n",
    "                                                if index2e<index1e or index2o<index1o: continue\n",
    "\n",
    "                                                ## Compute permutation factors\n",
    "                                                pref1  = (bin1==bin1p)*(bin2==bin2p)*(bin3==bin3p)*(bin4==bin4p)*(binL==binLp)\n",
    "                                                pref1 += (bin1==bin2p)*(bin2==bin1p)*(bin3==bin3p)*(bin4==bin4p)*(binL==binLp)\n",
    "                                                pref1 += (bin1==bin1p)*(bin2==bin2p)*(bin3==bin4p)*(bin4==bin3p)*(binL==binLp)\n",
    "                                                pref1 += (bin1==bin2p)*(bin2==bin1p)*(bin3==bin4p)*(bin4==bin3p)*(binL==binLp)\n",
    "                                                pref1 += (bin1==bin3p)*(bin2==bin4p)*(bin3==bin1p)*(bin4==bin2p)*(binL==binLp)\n",
    "                                                pref1 += (bin1==bin4p)*(bin2==bin3p)*(bin3==bin1p)*(bin4==bin2p)*(binL==binLp)\n",
    "                                                pref1 += (bin1==bin3p)*(bin2==bin4p)*(bin3==bin2p)*(bin4==bin1p)*(binL==binLp)\n",
    "                                                pref1 += (bin1==bin4p)*(bin2==bin3p)*(bin3==bin2p)*(bin4==bin1p)*(binL==binLp)\n",
    "\n",
    "                                                pref2  = (bin1==bin1p)*(bin2==bin3p)*(bin3==bin2p)*(bin4==bin4p)\n",
    "                                                pref2 += (bin1==bin2p)*(bin2==bin3p)*(bin3==bin1p)*(bin4==bin4p)\n",
    "                                                pref2 += (bin1==bin1p)*(bin2==bin4p)*(bin3==bin2p)*(bin4==bin3p)\n",
    "                                                pref2 += (bin1==bin2p)*(bin2==bin4p)*(bin3==bin1p)*(bin4==bin3p)\n",
    "                                                pref2 += (bin1==bin3p)*(bin2==bin1p)*(bin3==bin4p)*(bin4==bin2p)\n",
    "                                                pref2 += (bin1==bin3p)*(bin2==bin2p)*(bin3==bin4p)*(bin4==bin1p)\n",
    "                                                pref2 += (bin1==bin4p)*(bin2==bin1p)*(bin3==bin3p)*(bin4==bin2p)\n",
    "                                                pref2 += (bin1==bin4p)*(bin2==bin2p)*(bin3==bin3p)*(bin4==bin1p)\n",
    "\n",
    "                                                pref3  = (bin1==bin1p)*(bin2==bin4p)*(bin3==bin3p)*(bin4==bin2p)\n",
    "                                                pref3 += (bin1==bin2p)*(bin2==bin4p)*(bin3==bin3p)*(bin4==bin1p)\n",
    "                                                pref3 += (bin1==bin1p)*(bin2==bin3p)*(bin3==bin4p)*(bin4==bin2p)\n",
    "                                                pref3 += (bin1==bin2p)*(bin2==bin3p)*(bin3==bin4p)*(bin4==bin1p)\n",
    "                                                pref3 += (bin1==bin3p)*(bin2==bin2p)*(bin3==bin1p)*(bin4==bin4p)\n",
    "                                                pref3 += (bin1==bin3p)*(bin2==bin1p)*(bin3==bin2p)*(bin4==bin4p)\n",
    "                                                pref3 += (bin1==bin4p)*(bin2==bin2p)*(bin3==bin1p)*(bin4==bin3p)\n",
    "                                                pref3 += (bin1==bin4p)*(bin2==bin1p)*(bin3==bin2p)*(bin4==bin3p)\n",
    "\n",
    "                                                if pref1+pref2+pref3==0: continue\n",
    "\n",
    "                                                # Check if two sets of bins are permutations of each other (no contribution else!)\n",
    "                                                b1234 = np.sort([bin1,bin2,bin3,bin4])\n",
    "                                                b1234p = np.sort([bin1p,bin2p,bin3p,bin4p])\n",
    "                                                if not (b1234==b1234p).all():\n",
    "                                                    continue\n",
    "\n",
    "                                                value_even = 0.\n",
    "                                                value_odd = 0.\n",
    "\n",
    "                                                # Now iterate over l bins\n",
    "                                                for l1 in range(self.min_l+bin1*self.dl,self.min_l+(bin1+1)*self.dl):\n",
    "                                                    for l2 in range(self.min_l+bin2*self.dl,self.min_l+(bin2+1)*self.dl):\n",
    "                                                        for L in range(self.min_l+binL*self.dl,self.min_l+(binL+1)*self.dl):\n",
    "\n",
    "                                                            # Check triangle conditions\n",
    "                                                            if L<abs(l1-l2) or L>l1+l2: continue\n",
    "\n",
    "                                                            # first 3j symbols with spin (-1, -1, 2)\n",
    "                                                            tj12 = self.threej(l1,l2,L)\n",
    "\n",
    "                                                            for l3 in range(self.min_l+bin3*self.dl,self.min_l+(bin3+1)*self.dl):\n",
    "                                                                for l4 in range(self.min_l+bin4*self.dl,self.min_l+(bin4+1)*self.dl):\n",
    "                                                                    if L<abs(l3-l4) or L>l3+l4: continue\n",
    "\n",
    "                                                                    # Continue if wrong-parity, or in [b1=b3, b2=b4] bin and odd\n",
    "                                                                    if (-1)**(l1+l2+l3+l4)==-1 and ((bin1==bin3)*(bin2==bin4))==1: continue\n",
    "                                                                    if (-1)**(l1+l2+l3+l4)==-1 and ((bin1p==bin3p)*(bin2p==bin4p))==1: continue\n",
    "                                                                    if (-1)**(l1+l2+l3+l4)==1 and parity=='odd': continue\n",
    "                                                                    if (-1)**(l1+l2+l3+l4)==-1 and parity=='even': continue\n",
    "\n",
    "                                                                    # second 3j symbols with spin (-1, -1, 2)\n",
    "                                                                    tj34 = self.threej(l3,l4,L)\n",
    "\n",
    "                                                                    ## add first permutation\n",
    "                                                                    if pref1!=0 and tj12*tj34!=0:\n",
    "\n",
    "                                                                        # assemble relevant contribution\n",
    "                                                                        if (-1)**(l1+l2+l3+l4)==-1:\n",
    "                                                                            value_odd += self.beam[l1]**2*self.beam[l2]**2*self.beam[l3]**2*self.beam[l4]**2*pref1*tj12**2*tj34**2*(2.*l1+1.)*(2.*l2+1.)*(2.*l3+1.)*(2.*l4+1.)*(2.*L+1.)/(4.*np.pi)**2/self.base.Cl[l1]/self.base.Cl[l2]/self.base.Cl[l3]/self.base.Cl[l4]\n",
    "                                                                        else:\n",
    "                                                                            value_even += self.beam[l1]**2*self.beam[l2]**2*self.beam[l3]**2*self.beam[l4]**2*pref1*tj12**2*tj34**2*(2.*l1+1.)*(2.*l2+1.)*(2.*l3+1.)*(2.*l4+1.)*(2.*L+1.)/(4.*np.pi)**2/self.base.Cl[l1]/self.base.Cl[l2]/self.base.Cl[l3]/self.base.Cl[l4]\n",
    "\n",
    "                                                                    # Iterate over L' for off-diagonal terms\n",
    "                                                                    for Lp in range(self.min_l+binLp*self.dl,self.min_l+(binLp+1)*self.dl):\n",
    "\n",
    "                                                                        # Impose 6j symmetries\n",
    "                                                                        if Lp<abs(l3-l4) or Lp>l3+l4: continue\n",
    "                                                                        if Lp<abs(l1-l2) or Lp>l1+l2: continue\n",
    "\n",
    "                                                                        # Compute 3j symbols if non-zero\n",
    "                                                                        if Lp>=abs(l1-l3) and Lp<=l1+l3 and Lp>=abs(l2-l4) and Lp<=l2+l4: \n",
    "                                                                            tj1324 = self.threej(l1,l3,Lp)*self.threej(l2,l4,Lp)\n",
    "                                                                        else:\n",
    "                                                                            tj1324 = 0\n",
    "                                                                        if Lp>=abs(l1-l4) and Lp<=l1+l4 and Lp>=abs(l2-l3) and Lp<=l2+l3:\n",
    "                                                                            tj1432 = self.threej(l1,l4,Lp)*self.threej(l3,l2,Lp)\n",
    "                                                                        else:\n",
    "                                                                            tj1432 = 0\n",
    "\n",
    "                                                                        ## add second permutation\n",
    "                                                                        if pref2!=0 and tj1324!=0: \n",
    "                                                                            if (-1)**(l1+l2+l3+l4)==-1:\n",
    "                                                                                value_odd += self.beam[l1]**2*self.beam[l2]**2*self.beam[l3]**2*self.beam[l4]**2*pref2*(-1.)**(l2+l3)*tj12*tj34*tj1324*self.sixj(L,l1,l2,Lp,l4,l3)*(2.*l1+1.)*(2.*l2+1.)*(2.*l3+1.)*(2.*l4+1.)*(2.*L+1.)*(2.*Lp+1.)/(4.*np.pi)**2./self.base.Cl[l1]/self.base.Cl[l2]/self.base.Cl[l3]/self.base.Cl[l4]\n",
    "                                                                            else:\n",
    "                                                                                value_even += self.beam[l1]**2*self.beam[l2]**2*self.beam[l3]**2*self.beam[l4]**2*pref2*(-1.)**(l2+l3)*tj12*tj34*tj1324*self.sixj(L,l1,l2,Lp,l4,l3)*(2.*l1+1.)*(2.*l2+1.)*(2.*l3+1.)*(2.*l4+1.)*(2.*L+1.)*(2.*Lp+1.)/(4.*np.pi)**2./self.base.Cl[l1]/self.base.Cl[l2]/self.base.Cl[l3]/self.base.Cl[l4]\n",
    "\n",
    "                                                                        ## add third permutation\n",
    "                                                                        if pref3!=0 and tj1432!=0:\n",
    "                                                                            if (-1)**(l1+l2+l3+l4)==-1:\n",
    "                                                                                value_odd += self.beam[l1]**2*self.beam[l2]**2*self.beam[l3]**2*self.beam[l4]**2*pref3*(-1.)**(L+Lp)*tj12*tj34*tj1432*self.sixj(L,l1,l2,Lp,l3,l4)*(2.*l1+1.)*(2.*l2+1.)*(2.*l3+1.)*(2.*l4+1.)*(2.*L+1.)*(2*Lp+1.)/(4.*np.pi)**2./self.base.Cl[l1]/self.base.Cl[l2]/self.base.Cl[l3]/self.base.Cl[l4]\n",
    "                                                                            else:\n",
    "                                                                                value_even += self.beam[l1]**2*self.beam[l2]**2*self.beam[l3]**2*self.beam[l4]**2*pref3*(-1.)**(L+Lp)*tj12*tj34*tj1432*self.sixj(L,l1,l2,Lp,l3,l4)*(2.*l1+1.)*(2.*l2+1.)*(2.*l3+1.)*(2.*l4+1.)*(2.*L+1.)*(2*Lp+1.)/(4.*np.pi)**2./self.base.Cl[l1]/self.base.Cl[l2]/self.base.Cl[l3]/self.base.Cl[l4]\n",
    "\n",
    "                                                # Note that matrix is symmetric if ideal!\n",
    "                                                if parity!='even' and ((bin1==bin3)*(bin2==bin4)!=1) and ((bin1p==bin3p)*(bin2p==bin4p)!=1):\n",
    "                                                    fish_odd[index1o, index2o] = value_odd\n",
    "                                                    fish_odd[index2o, index1o] = value_odd\n",
    "                                                if parity!='odd':\n",
    "                                                    fish_even[index1e, index2e] = value_even\n",
    "                                                    fish_even[index2e, index1e] = value_even\n",
    "    elif N_cpus>1:\n",
    "\n",
    "        global _iterator\n",
    "        def _iterator(index1e_input):\n",
    "            \"\"\"Create an iterator for multiprocessing. This iterates over the first index.\"\"\"\n",
    "            # Iterate over first set of bins\n",
    "            # Note that we use two sets of indices here, since there are a different number of odd and even bins\n",
    "\n",
    "            if parity!='even':\n",
    "                fish_odd_internal = np.zeros((self.N_t_odd, self.N_t_odd))\n",
    "            if parity!='odd':\n",
    "                fish_even_internal = np.zeros((self.N_t_even, self.N_t_even))\n",
    "\n",
    "            index1e = -1\n",
    "            index1o = -1\n",
    "            print(\"Using index %d\"%index1e_input)\n",
    "            for bin1 in range(self.Nl):\n",
    "                for bin2 in range(bin1,self.Nl_squeeze):\n",
    "                    for bin3 in range(bin1,self.Nl):\n",
    "                        for bin4 in range(bin3,self.Nl_squeeze):\n",
    "                            if bin1==bin3 and bin4<bin2: continue\n",
    "                            if bin1==bin3 and bin2==bin4 and parity=='odd': continue\n",
    "                            for binL in range(self.Nl_squeeze):\n",
    "                                # skip bins outside the triangle conditions\n",
    "                                if not self._check_bin(bin1,bin2,binL,even=False): continue\n",
    "                                if not self._check_bin(bin3,bin4,binL,even=False): continue\n",
    "\n",
    "                                # Update indices\n",
    "                                index1e += 1\n",
    "\n",
    "                                if ((bin1==bin3)*(bin2==bin4))!=1:\n",
    "                                    index1o += 1 # no equal bins!\n",
    "\n",
    "                                # Specialize to only the desired index\n",
    "                                if index1e!=index1e_input:\n",
    "                                    continue\n",
    "\n",
    "                                # Iterate over second set of bins\n",
    "                                index2e = -1\n",
    "                                index2o = -1\n",
    "                                for bin1p in range(self.Nl):\n",
    "                                    for bin2p in range(bin1p,self.Nl_squeeze):\n",
    "                                        for bin3p in range(bin1p,self.Nl):\n",
    "                                            for bin4p in range(bin3p,self.Nl_squeeze):\n",
    "                                                if bin1p==bin3p and bin4p<bin2p: continue\n",
    "                                                if bin1p==bin3p and bin2p==bin4p and parity=='odd': continue\n",
    "                                                for binLp in range(self.Nl_squeeze):\n",
    "                                                    # skip bins outside the triangle conditions\n",
    "                                                    if not self._check_bin(bin1p,bin2p,binLp,even=False): continue\n",
    "                                                    if not self._check_bin(bin3p,bin4p,binLp,even=False): continue\n",
    "\n",
    "                                                    # Update indices\n",
    "                                                    index2e += 1\n",
    "                                                    if ((bin1p==bin3p)*(bin2p==bin4p))!=1:\n",
    "                                                        index2o += 1 # no equal bins!\n",
    "\n",
    "                                                    # fill in this part by symmetry!\n",
    "                                                    if index2e<index1e or index2o<index1o: continue\n",
    "\n",
    "                                                    ## Compute permutation factors\n",
    "                                                    pref1  = (bin1==bin1p)*(bin2==bin2p)*(bin3==bin3p)*(bin4==bin4p)*(binL==binLp)\n",
    "                                                    pref1 += (bin1==bin2p)*(bin2==bin1p)*(bin3==bin3p)*(bin4==bin4p)*(binL==binLp)\n",
    "                                                    pref1 += (bin1==bin1p)*(bin2==bin2p)*(bin3==bin4p)*(bin4==bin3p)*(binL==binLp)\n",
    "                                                    pref1 += (bin1==bin2p)*(bin2==bin1p)*(bin3==bin4p)*(bin4==bin3p)*(binL==binLp)\n",
    "                                                    pref1 += (bin1==bin3p)*(bin2==bin4p)*(bin3==bin1p)*(bin4==bin2p)*(binL==binLp)\n",
    "                                                    pref1 += (bin1==bin4p)*(bin2==bin3p)*(bin3==bin1p)*(bin4==bin2p)*(binL==binLp)\n",
    "                                                    pref1 += (bin1==bin3p)*(bin2==bin4p)*(bin3==bin2p)*(bin4==bin1p)*(binL==binLp)\n",
    "                                                    pref1 += (bin1==bin4p)*(bin2==bin3p)*(bin3==bin2p)*(bin4==bin1p)*(binL==binLp)\n",
    "\n",
    "                                                    pref2  = (bin1==bin1p)*(bin2==bin3p)*(bin3==bin2p)*(bin4==bin4p)\n",
    "                                                    pref2 += (bin1==bin2p)*(bin2==bin3p)*(bin3==bin1p)*(bin4==bin4p)\n",
    "                                                    pref2 += (bin1==bin1p)*(bin2==bin4p)*(bin3==bin2p)*(bin4==bin3p)\n",
    "                                                    pref2 += (bin1==bin2p)*(bin2==bin4p)*(bin3==bin1p)*(bin4==bin3p)\n",
    "                                                    pref2 += (bin1==bin3p)*(bin2==bin1p)*(bin3==bin4p)*(bin4==bin2p)\n",
    "                                                    pref2 += (bin1==bin3p)*(bin2==bin2p)*(bin3==bin4p)*(bin4==bin1p)\n",
    "                                                    pref2 += (bin1==bin4p)*(bin2==bin1p)*(bin3==bin3p)*(bin4==bin2p)\n",
    "                                                    pref2 += (bin1==bin4p)*(bin2==bin2p)*(bin3==bin3p)*(bin4==bin1p)\n",
    "\n",
    "                                                    pref3  = (bin1==bin1p)*(bin2==bin4p)*(bin3==bin3p)*(bin4==bin2p)\n",
    "                                                    pref3 += (bin1==bin2p)*(bin2==bin4p)*(bin3==bin3p)*(bin4==bin1p)\n",
    "                                                    pref3 += (bin1==bin1p)*(bin2==bin3p)*(bin3==bin4p)*(bin4==bin2p)\n",
    "                                                    pref3 += (bin1==bin2p)*(bin2==bin3p)*(bin3==bin4p)*(bin4==bin1p)\n",
    "                                                    pref3 += (bin1==bin3p)*(bin2==bin2p)*(bin3==bin1p)*(bin4==bin4p)\n",
    "                                                    pref3 += (bin1==bin3p)*(bin2==bin1p)*(bin3==bin2p)*(bin4==bin4p)\n",
    "                                                    pref3 += (bin1==bin4p)*(bin2==bin2p)*(bin3==bin1p)*(bin4==bin3p)\n",
    "                                                    pref3 += (bin1==bin4p)*(bin2==bin1p)*(bin3==bin2p)*(bin4==bin3p)\n",
    "\n",
    "                                                    if pref1+pref2+pref3==0: continue\n",
    "                                                    \n",
    "                                                    value_even = 0.\n",
    "                                                    value_odd = 0.\n",
    "\n",
    "                                                    # Now iterate over l bins\n",
    "                                                    for l1 in range(self.min_l+bin1*self.dl,self.min_l+(bin1+1)*self.dl):\n",
    "                                                        for l2 in range(self.min_l+bin2*self.dl,self.min_l+(bin2+1)*self.dl):\n",
    "                                                            for L in range(self.min_l+binL*self.dl,self.min_l+(binL+1)*self.dl):\n",
    "                                                                # Check triangle conditions\n",
    "                                                                if L<abs(l1-l2) or L>l1+l2: continue\n",
    "                                                                # first 3j symbols with spin (-1, -1, 2)\n",
    "                                                                tj12 = self.threej(l1,l2,L)\n",
    "                                                                for l3 in range(self.min_l+bin3*self.dl,self.min_l+(bin3+1)*self.dl):\n",
    "                                                                    for l4 in range(self.min_l+bin4*self.dl,self.min_l+(bin4+1)*self.dl):\n",
    "                                                                        if L<abs(l3-l4) or L>l3+l4: continue\n",
    "\n",
    "                                                                        # Continue if wrong-parity, or in [b1=b3, b2=b4] bin and odd\n",
    "                                                                        if (-1)**(l1+l2+l3+l4)==-1 and ((bin1==bin3)*(bin2==bin4))==1: continue\n",
    "                                                                        if (-1)**(l1+l2+l3+l4)==-1 and ((bin1p==bin3p)*(bin2p==bin4p))==1: continue\n",
    "                                                                        if (-1)**(l1+l2+l3+l4)==1 and parity=='odd': continue\n",
    "                                                                        if (-1)**(l1+l2+l3+l4)==-1 and parity=='even': continue\n",
    "\n",
    "                                                                        # second 3j symbols with spin (-1, -1, 2)\n",
    "                                                                        tj34 = self.threej(l3,l4,L)\n",
    "\n",
    "                                                                        ## add first permutation\n",
    "                                                                        if pref1!=0 and tj12*tj34!=0:\n",
    "\n",
    "                                                                            # assemble relevant contribution\n",
    "                                                                            if (-1)**(l1+l2+l3+l4)==-1:\n",
    "                                                                                value_odd += self.beam[l1]**2*self.beam[l2]**2*self.beam[l3]**2*self.beam[l4]**2*pref1*tj12**2*tj34**2*(2.*l1+1.)*(2.*l2+1.)*(2.*l3+1.)*(2.*l4+1.)*(2.*L+1.)/(4.*np.pi)**2/self.base.Cl[l1]/self.base.Cl[l2]/self.base.Cl[l3]/self.base.Cl[l4]\n",
    "                                                                            else:\n",
    "                                                                                value_even += self.beam[l1]**2*self.beam[l2]**2*self.beam[l3]**2*self.beam[l4]**2*pref1*tj12**2*tj34**2*(2.*l1+1.)*(2.*l2+1.)*(2.*l3+1.)*(2.*l4+1.)*(2.*L+1.)/(4.*np.pi)**2/self.base.Cl[l1]/self.base.Cl[l2]/self.base.Cl[l3]/self.base.Cl[l4]\n",
    "\n",
    "#                                                                         # Iterate over L' for off-diagonal terms\n",
    "#                                                                         for Lp in range(self.min_l+binLp*self.dl,self.min_l+(binLp+1)*self.dl):\n",
    "#                                                                             # Impose 6j symmetries\n",
    "#                                                                             if Lp<abs(l3-l4) or Lp>l3+l4: continue\n",
    "#                                                                             if Lp<abs(l1-l2) or Lp>l1+l2: continue\n",
    "\n",
    "#                                                                             # Compute 3j symbols if non-zero\n",
    "#                                                                             if Lp>=abs(l1-l3) and Lp<=l1+l3 and Lp>=abs(l2-l4) and Lp<=l2+l4: \n",
    "#                                                                                 tj1324 = self.threej(l1,l3,Lp)*self.threej(l2,l4,Lp)\n",
    "#                                                                             else:\n",
    "#                                                                                 tj1324 = 0\n",
    "#                                                                             if Lp>=abs(l1-l4) and Lp<=l1+l4 and Lp>=abs(l2-l3) and Lp<=l2+l3:\n",
    "#                                                                                 tj1432 = self.threej(l1,l4,Lp)*self.threej(l3,l2,Lp)\n",
    "#                                                                             else:\n",
    "#                                                                                 tj1432 = 0\n",
    "\n",
    "#                                                                             ## add second permutation\n",
    "#                                                                             if pref2!=0 and tj1324!=0: \n",
    "#                                                                                 if (-1)**(l1+l2+l3+l4)==-1:\n",
    "#                                                                                     value_odd += self.beam[l1]**2*self.beam[l2]**2*self.beam[l3]**2*self.beam[l4]**2*pref2*(-1.)**(l2+l3)*tj12*tj34*tj1324*self.sixj(L,l1,l2,Lp,l4,l3)*(2.*l1+1.)*(2.*l2+1.)*(2.*l3+1.)*(2.*l4+1.)*(2.*L+1.)*(2.*Lp+1.)/(4.*np.pi)**2./self.base.Cl[l1]/self.base.Cl[l2]/self.base.Cl[l3]/self.base.Cl[l4]\n",
    "#                                                                                 else:\n",
    "#                                                                                     value_even += self.beam[l1]**2*self.beam[l2]**2*self.beam[l3]**2*self.beam[l4]**2*pref2*(-1.)**(l2+l3)*tj12*tj34*tj1324*self.sixj(L,l1,l2,Lp,l4,l3)*(2.*l1+1.)*(2.*l2+1.)*(2.*l3+1.)*(2.*l4+1.)*(2.*L+1.)*(2.*Lp+1.)/(4.*np.pi)**2./self.base.Cl[l1]/self.base.Cl[l2]/self.base.Cl[l3]/self.base.Cl[l4]\n",
    "\n",
    "#                                                                             ## add third permutation\n",
    "#                                                                             if pref3!=0 and tj1432!=0:\n",
    "#                                                                                 if (-1)**(l1+l2+l3+l4)==-1:\n",
    "#                                                                                     value_odd += self.beam[l1]**2*self.beam[l2]**2*self.beam[l3]**2*self.beam[l4]**2*pref3*(-1.)**(L+Lp)*tj12*tj34*tj1432*self.sixj(L,l1,l2,Lp,l3,l4)*(2.*l1+1.)*(2.*l2+1.)*(2.*l3+1.)*(2.*l4+1.)*(2.*L+1.)*(2*Lp+1.)/(4.*np.pi)**2./self.base.Cl[l1]/self.base.Cl[l2]/self.base.Cl[l3]/self.base.Cl[l4]\n",
    "#                                                                                 else:\n",
    "#                                                                                     value_even += self.beam[l1]**2*self.beam[l2]**2*self.beam[l3]**2*self.beam[l4]**2*pref3*(-1.)**(L+Lp)*tj12*tj34*tj1432*self.sixj(L,l1,l2,Lp,l3,l4)*(2.*l1+1.)*(2.*l2+1.)*(2.*l3+1.)*(2.*l4+1.)*(2.*L+1.)*(2*Lp+1.)/(4.*np.pi)**2./self.base.Cl[l1]/self.base.Cl[l2]/self.base.Cl[l3]/self.base.Cl[l4]\n",
    "\n",
    "                                                    # Note that matrix is symmetric if ideal!\n",
    "                                                    print(value_odd,value_even)\n",
    "                                                    if parity!='even' and ((bin1==bin3)*(bin2==bin4)!=1) and ((bin1p==bin3p)*(bin2p==bin4p)!=1):\n",
    "                                                        fish_odd_internal[index1o, index2o] = value_odd\n",
    "                                                        fish_odd_internal[index2o, index1o] = value_odd\n",
    "                                                    if parity!='odd':\n",
    "                                                        fish_even_internal[index1e, index2e] = value_even\n",
    "                                                        fish_even_internal[index2e, index1e] = value_even\n",
    "\n",
    "            if parity=='odd':\n",
    "                return fish_odd_internal\n",
    "            elif parity=='even':\n",
    "                return fish_even_internal\n",
    "            else:\n",
    "                return fish_even_internal, fish_odd_internal\n",
    "\n",
    "        # Now run multiprocessing\n",
    "        p = mp.Pool(N_cpus)\n",
    "        print(\"Multiprocessing computation on %d cores\"%N_cpus)\n",
    "\n",
    "        result = list(tqdm.tqdm(p.imap_unordered(_iterator,range(self.N_t_even)),total=self.N_t_even))\n",
    "        if parity=='odd':\n",
    "            fish_odd = np.sum(result,axis=0)\n",
    "        elif parity=='even':\n",
    "            fish_even = np.sum(result,axis=0)\n",
    "        else:\n",
    "            fish_even = np.sum([r[0] for r in result],axis=0)\n",
    "            fish_odd  = np.sum([r[1] for r in result],axis=0)\n",
    "\n",
    "    else:\n",
    "        raise Exception(\"Need at least one CPU!\")\n",
    "\n",
    "    # Add symmetry factors and save attributes\n",
    "    if parity!='even':\n",
    "        fish_odd *= 1./np.outer(self.sym_factor_odd,self.sym_factor_odd)\n",
    "        self.fish_ideal_odd = fish_odd\n",
    "        #self.inv_fish_ideal_odd = np.linalg.inv(fish_odd)\n",
    "    if parity!='odd':\n",
    "        fish_even *= 1./np.outer(self.sym_factor_even,self.sym_factor_even)\n",
    "        self.fish_ideal_even = fish_even\n",
    "        #self.inv_fish_ideal_even = np.linalg.inv(fish_even)\n",
    "\n",
    "    # Return matrices\n",
    "    if parity=='even':\n",
    "        return fish_even\n",
    "    elif parity=='odd':\n",
    "        return fish_odd\n",
    "    else:\n",
    "        return fish_even, fish_odd\n"
   ]
  },
  {
   "cell_type": "code",
   "execution_count": 6,
   "metadata": {
    "scrolled": true
   },
   "outputs": [
    {
     "name": "stdout",
     "output_type": "stream",
     "text": [
      "Using 26 even-parity trispectrum bins\n",
      "Using 15 odd-parity trispectrum bins\n",
      "Multiprocessing computation on 16 cores\n",
      "Using index 0\n",
      "Using index 1"
     ]
    },
    {
     "name": "stderr",
     "output_type": "stream",
     "text": [
      "\r",
      "  0%|          | 0/26 [00:00<?, ?it/s]"
     ]
    },
    {
     "name": "stdout",
     "output_type": "stream",
     "text": [
      "Using index 4Using index 6Using index 5Using index 2Using index 7\n",
      "\n",
      "Using index 10\n",
      "Using index 3Using index 8\n",
      "Using index 9\n",
      "Using index 11\n",
      "\n",
      "\n",
      "Using index 12Using index 14\n",
      "\n",
      "\n",
      "Using index 13\n",
      "\n",
      "Using index 15\n",
      "\n",
      "0.0 7.005233850046905e+44\n"
     ]
    },
    {
     "name": "stderr",
     "output_type": "stream",
     "text": [
      "\r",
      "  4%|▍         | 1/26 [00:01<00:28,  1.15s/it]"
     ]
    },
    {
     "name": "stdout",
     "output_type": "stream",
     "text": [
      "Using index 16\n",
      "0.00.0  3.493635512944993e+464.8161762349838045e+45\n"
     ]
    },
    {
     "name": "stderr",
     "output_type": "stream",
     "text": [
      "\r",
      "  8%|▊         | 2/26 [00:01<00:15,  1.54it/s]"
     ]
    },
    {
     "name": "stdout",
     "output_type": "stream",
     "text": [
      "\n",
      "0.0Using index 17Using index 18 \n",
      "\n",
      "1.1717517215798043e+48\n",
      "9.036093452507914e+460.0 1.0739371954515833e+48 9.639951024355574e+46\n",
      "0.0"
     ]
    },
    {
     "name": "stderr",
     "output_type": "stream",
     "text": [
      "\r",
      " 15%|█▌        | 4/26 [00:01<00:08,  2.50it/s]"
     ]
    },
    {
     "name": "stdout",
     "output_type": "stream",
     "text": [
      "1.2847288805321513e+46\n",
      "Using index 19\n",
      " 1.3991898290186221e+46 6.7924961604790215e+47\n",
      "\n",
      "0.0 0.0\n",
      "3.519623699327288e+46 0.03.716756094140384e+46 \n",
      "0.00.0"
     ]
    },
    {
     "name": "stderr",
     "output_type": "stream",
     "text": [
      "\r",
      " 19%|█▉        | 5/26 [00:02<00:10,  2.10it/s]"
     ]
    },
    {
     "name": "stdout",
     "output_type": "stream",
     "text": [
      "\n",
      "Using index 20 \n",
      "8.110454879219179e+460.0 \n"
     ]
    },
    {
     "name": "stderr",
     "output_type": "stream",
     "text": [
      "\r",
      " 23%|██▎       | 6/26 [00:02<00:07,  2.55it/s]"
     ]
    },
    {
     "name": "stdout",
     "output_type": "stream",
     "text": [
      "0.04.991719165527673e+46Using index 21 \n",
      "\n",
      "0.00.0Using index 22\n",
      " \n"
     ]
    },
    {
     "name": "stderr",
     "output_type": "stream",
     "text": [
      "\r",
      " 31%|███       | 8/26 [00:02<00:04,  4.04it/s]"
     ]
    },
    {
     "name": "stdout",
     "output_type": "stream",
     "text": [
      "Using index 237.369735647482443e+46 \n",
      "0.06.845971919556557e+46\n"
     ]
    },
    {
     "name": "stderr",
     "output_type": "stream",
     "text": [
      "\r",
      " 35%|███▍      | 9/26 [00:03<00:03,  4.73it/s]"
     ]
    },
    {
     "name": "stdout",
     "output_type": "stream",
     "text": [
      "\n",
      "Using index 24Using index 251.5228533826546309e+472.307681740189151e+46\n",
      " \n",
      " 2.266512202577078e+461.4922825105451817e+474.287658660763282e+47\n"
     ]
    },
    {
     "name": "stderr",
     "output_type": "stream",
     "text": [
      "\r",
      " 42%|████▏     | 11/26 [00:03<00:02,  6.15it/s]"
     ]
    },
    {
     "name": "stdout",
     "output_type": "stream",
     "text": [
      "\n",
      " 0.03.0945887810776673e+47 0.0\n",
      "\n",
      "0.0 5.663813398284186e+493.965899615888603e+48\n",
      " 0.04.070296207244989e+48 \n",
      "1.2515730266036879e+48\n",
      "0.0 4.085021106307613e+47 2.190885907244431e+472.488697989735389e+47\n",
      " 0.03.921742770598006e+47"
     ]
    },
    {
     "name": "stderr",
     "output_type": "stream",
     "text": [
      "\r",
      " 50%|█████     | 13/26 [00:04<00:03,  3.63it/s]"
     ]
    },
    {
     "name": "stdout",
     "output_type": "stream",
     "text": [
      "\n",
      "\n",
      "0.0 0.00.0\n"
     ]
    },
    {
     "name": "stderr",
     "output_type": "stream",
     "text": [
      "\r",
      " 58%|█████▊    | 15/26 [00:04<00:02,  4.69it/s]"
     ]
    },
    {
     "name": "stdout",
     "output_type": "stream",
     "text": [
      " 0.0\n",
      "0.0 0.00.00.0\n",
      "  0.0"
     ]
    },
    {
     "name": "stderr",
     "output_type": "stream",
     "text": [
      "\r",
      " 62%|██████▏   | 16/26 [00:04<00:02,  4.08it/s]"
     ]
    },
    {
     "name": "stdout",
     "output_type": "stream",
     "text": [
      "9.150433326732578e+472.47536339716327e+49\n",
      "0.0 0.0 0.0\n",
      " 2.759622130813381e+492.160439647949485e+48 0.07.382274997951345e+47\n",
      "\n",
      "\n"
     ]
    },
    {
     "name": "stderr",
     "output_type": "stream",
     "text": [
      "\r",
      " 73%|███████▎  | 19/26 [00:04<00:01,  6.53it/s]"
     ]
    },
    {
     "name": "stdout",
     "output_type": "stream",
     "text": [
      "\n",
      "0.0 0.0\n"
     ]
    },
    {
     "name": "stderr",
     "output_type": "stream",
     "text": [
      "\r",
      " 81%|████████  | 21/26 [00:05<00:00,  7.05it/s]"
     ]
    },
    {
     "name": "stdout",
     "output_type": "stream",
     "text": [
      "2.6658402608184173e+472.7905754972571115e+48 2.0883673500395067e+48 \n",
      "2.5578272364194826e+48\n",
      "0.00.0 0.0\n",
      " 0.0\n",
      "1.1607270960425103e+48 1.9028973606725012e+48\n"
     ]
    },
    {
     "name": "stderr",
     "output_type": "stream",
     "text": [
      "\r",
      " 88%|████████▊ | 23/26 [00:05<00:00,  5.40it/s]"
     ]
    },
    {
     "name": "stdout",
     "output_type": "stream",
     "text": [
      "0.00.0 0.0  0.0\n",
      "0.0\n",
      "0.0\n",
      "0.0 0.0\n"
     ]
    },
    {
     "name": "stderr",
     "output_type": "stream",
     "text": [
      "100%|██████████| 26/26 [00:06<00:00,  4.18it/s]\n"
     ]
    }
   ],
   "source": [
    "ideal_fish = _compute_fisher_ideal(tspec,'both',True,16)"
   ]
  },
  {
   "cell_type": "code",
   "execution_count": 7,
   "metadata": {},
   "outputs": [
    {
     "name": "stdout",
     "output_type": "stream",
     "text": [
      "Populating the interactive namespace from numpy and matplotlib\n"
     ]
    }
   ],
   "source": [
    "%pylab inline"
   ]
  },
  {
   "cell_type": "code",
   "execution_count": 10,
   "metadata": {},
   "outputs": [
    {
     "data": {
      "text/plain": [
       "<matplotlib.image.AxesImage at 0x147743dbbb90>"
      ]
     },
     "execution_count": 10,
     "metadata": {},
     "output_type": "execute_result"
    },
    {
     "data": {
      "image/png": "[encoded data removed]",
      "text/plain": [
       "<Figure size 432x288 with 1 Axes>"
      ]
     },
     "metadata": {
      "needs_background": "light"
     },
     "output_type": "display_data"
    }
   ],
   "source": [
    "plt.imshow(ideal_fish[1]!)"
   ]
  },
  {
   "cell_type": "code",
   "execution_count": 9,
   "metadata": {},
   "outputs": [
    {
     "data": {
      "text/plain": [
       "array([[8.02955550e+44, 0.00000000e+00, 0.00000000e+00, 0.00000000e+00,\n",
       "        0.00000000e+00, 0.00000000e+00, 0.00000000e+00, 0.00000000e+00,\n",
       "        0.00000000e+00, 0.00000000e+00, 0.00000000e+00, 0.00000000e+00,\n",
       "        0.00000000e+00, 0.00000000e+00, 0.00000000e+00],\n",
       "       [0.00000000e+00, 5.64755841e+45, 0.00000000e+00, 0.00000000e+00,\n",
       "        0.00000000e+00, 0.00000000e+00, 0.00000000e+00, 0.00000000e+00,\n",
       "        0.00000000e+00, 0.00000000e+00, 0.00000000e+00, 0.00000000e+00,\n",
       "        0.00000000e+00, 0.00000000e+00, 0.00000000e+00],\n",
       "       [0.00000000e+00, 0.00000000e+00, 5.76920435e+45, 0.00000000e+00,\n",
       "        0.00000000e+00, 0.00000000e+00, 0.00000000e+00, 0.00000000e+00,\n",
       "        0.00000000e+00, 0.00000000e+00, 0.00000000e+00, 0.00000000e+00,\n",
       "        0.00000000e+00, 0.00000000e+00, 0.00000000e+00],\n",
       "       [0.00000000e+00, 0.00000000e+00, 0.00000000e+00, 3.51962370e+46,\n",
       "        0.00000000e+00, 0.00000000e+00, 0.00000000e+00, 0.00000000e+00,\n",
       "        0.00000000e+00, 0.00000000e+00, 0.00000000e+00, 0.00000000e+00,\n",
       "        0.00000000e+00, 0.00000000e+00, 0.00000000e+00],\n",
       "       [0.00000000e+00, 0.00000000e+00, 0.00000000e+00, 0.00000000e+00,\n",
       "        3.80713346e+46, 0.00000000e+00, 0.00000000e+00, 0.00000000e+00,\n",
       "        0.00000000e+00, 0.00000000e+00, 0.00000000e+00, 0.00000000e+00,\n",
       "        0.00000000e+00, 0.00000000e+00, 0.00000000e+00],\n",
       "       [0.00000000e+00, 0.00000000e+00, 0.00000000e+00, 0.00000000e+00,\n",
       "        0.00000000e+00, 2.02761372e+46, 0.00000000e+00, 0.00000000e+00,\n",
       "        0.00000000e+00, 0.00000000e+00, 0.00000000e+00, 0.00000000e+00,\n",
       "        0.00000000e+00, 0.00000000e+00, 0.00000000e+00],\n",
       "       [0.00000000e+00, 0.00000000e+00, 0.00000000e+00, 0.00000000e+00,\n",
       "        0.00000000e+00, 0.00000000e+00, 7.36973565e+46, 0.00000000e+00,\n",
       "        0.00000000e+00, 0.00000000e+00, 0.00000000e+00, 0.00000000e+00,\n",
       "        0.00000000e+00, 0.00000000e+00, 0.00000000e+00],\n",
       "       [0.00000000e+00, 0.00000000e+00, 0.00000000e+00, 0.00000000e+00,\n",
       "        0.00000000e+00, 0.00000000e+00, 0.00000000e+00, 1.02125528e+47,\n",
       "        0.00000000e+00, 0.00000000e+00, 0.00000000e+00, 0.00000000e+00,\n",
       "        0.00000000e+00, 0.00000000e+00, 0.00000000e+00],\n",
       "       [0.00000000e+00, 0.00000000e+00, 0.00000000e+00, 0.00000000e+00,\n",
       "        0.00000000e+00, 0.00000000e+00, 0.00000000e+00, 0.00000000e+00,\n",
       "        1.07191467e+47, 0.00000000e+00, 0.00000000e+00, 0.00000000e+00,\n",
       "        0.00000000e+00, 0.00000000e+00, 0.00000000e+00],\n",
       "       [0.00000000e+00, 0.00000000e+00, 0.00000000e+00, 0.00000000e+00,\n",
       "        0.00000000e+00, 0.00000000e+00, 0.00000000e+00, 0.00000000e+00,\n",
       "        0.00000000e+00, 5.47721477e+46, 0.00000000e+00, 0.00000000e+00,\n",
       "        0.00000000e+00, 0.00000000e+00, 0.00000000e+00],\n",
       "       [0.00000000e+00, 0.00000000e+00, 0.00000000e+00, 0.00000000e+00,\n",
       "        0.00000000e+00, 0.00000000e+00, 0.00000000e+00, 0.00000000e+00,\n",
       "        0.00000000e+00, 0.00000000e+00, 2.47868726e+47, 0.00000000e+00,\n",
       "        0.00000000e+00, 0.00000000e+00, 0.00000000e+00],\n",
       "       [0.00000000e+00, 0.00000000e+00, 0.00000000e+00, 0.00000000e+00,\n",
       "        0.00000000e+00, 0.00000000e+00, 0.00000000e+00, 0.00000000e+00,\n",
       "        0.00000000e+00, 0.00000000e+00, 0.00000000e+00, 5.71902083e+46,\n",
       "        0.00000000e+00, 0.00000000e+00, 0.00000000e+00],\n",
       "       [0.00000000e+00, 0.00000000e+00, 0.00000000e+00, 0.00000000e+00,\n",
       "        0.00000000e+00, 0.00000000e+00, 0.00000000e+00, 0.00000000e+00,\n",
       "        0.00000000e+00, 0.00000000e+00, 0.00000000e+00, 0.00000000e+00,\n",
       "        1.66615016e+46, 0.00000000e+00, 0.00000000e+00],\n",
       "       [0.00000000e+00, 0.00000000e+00, 0.00000000e+00, 0.00000000e+00,\n",
       "        0.00000000e+00, 0.00000000e+00, 0.00000000e+00, 0.00000000e+00,\n",
       "        0.00000000e+00, 0.00000000e+00, 0.00000000e+00, 0.00000000e+00,\n",
       "        0.00000000e+00, 6.97643874e+47, 0.00000000e+00],\n",
       "       [0.00000000e+00, 0.00000000e+00, 0.00000000e+00, 0.00000000e+00,\n",
       "        0.00000000e+00, 0.00000000e+00, 0.00000000e+00, 0.00000000e+00,\n",
       "        0.00000000e+00, 0.00000000e+00, 0.00000000e+00, 0.00000000e+00,\n",
       "        0.00000000e+00, 0.00000000e+00, 2.90181774e+47]])"
      ]
     },
     "execution_count": 9,
     "metadata": {},
     "output_type": "execute_result"
    }
   ],
   "source": [
    "ideal_fish[1]"
   ]
  },
  {
   "cell_type": "code",
   "execution_count": null,
   "metadata": {},
   "outputs": [],
   "source": [
    "# Create Fisher matrix\n",
    "t_init = time.time()\n",
    "ideal_fish = tspec.compute_fisher_ideal('both',True,16) \n",
    "\n",
    "# IDEAL FISHER\n",
    "fish_out = '/projects/QUIJOTE/Oliver/polybin_testing/tfish_ideal_%d_%d_%d.npy'%(min_l,dl,Nl)\n",
    "np.save(fish_out,ideal_fish)\n",
    "\n",
    "print(\"Computed ideal Fisher after %d seconds\"%(time.time()-t_init))"
   ]
  }
 ],
 "metadata": {
  "kernelspec": {
   "display_name": "sbi [~/.conda/envs/sbi/]",
   "language": "python",
   "name": "conda_sbi"
  },
  "language_info": {
   "codemirror_mode": {
    "name": "ipython",
    "version": 3
   },
   "file_extension": ".py",
   "mimetype": "text/x-python",
   "name": "python",
   "nbconvert_exporter": "python",
   "pygments_lexer": "ipython3",
   "version": "3.7.11"
  }
 },
 "nbformat": 4,
 "nbformat_minor": 4
}
